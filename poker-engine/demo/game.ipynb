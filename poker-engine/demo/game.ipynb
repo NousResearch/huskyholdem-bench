{
 "cells": [
  {
   "cell_type": "markdown",
   "metadata": {},
   "source": [
    "### This is a demo on how to use game simulation api"
   ]
  },
  {
   "cell_type": "code",
   "execution_count": 1,
   "metadata": {},
   "outputs": [],
   "source": [
    "from game.game import Game\n",
    "from game.round_state import RoundState\n",
    "from poker_type.game import PokerAction"
   ]
  },
  {
   "cell_type": "code",
   "execution_count": 2,
   "metadata": {},
   "outputs": [
    {
     "name": "stdout",
     "output_type": "stream",
     "text": [
      "Pot: 0 \n",
      " Raise Amount: 0 \n",
      " Bettor: None \n",
      " Waiting For: {0, 1, 2} \n",
      " Player Bets: {0: 0, 1: 0, 2: 0} \n",
      " Player Actions: {}\n",
      "Pot: 0 \n",
      " Raise Amount: 0 \n",
      " Bettor: None \n",
      " Waiting For: {0, 2} \n",
      " Player Bets: {0: 0, 1: 0, 2: 0} \n",
      " Player Actions: {1: <PokerAction.FOLD: 1>}\n",
      "Pot: 0 \n",
      " Raise Amount: 0 \n",
      " Bettor: None \n",
      " Waiting For: {0} \n",
      " Player Bets: {0: 0, 1: 0, 2: 0} \n",
      " Player Actions: {1: <PokerAction.FOLD: 1>, 2: <PokerAction.CHECK: 2>}\n",
      "Pot: 5 \n",
      " Raise Amount: 5 \n",
      " Bettor: 0 \n",
      " Waiting For: {2} \n",
      " Player Bets: {0: 5, 1: 0, 2: 0} \n",
      " Player Actions: {1: <PokerAction.FOLD: 1>, 2: None, 0: <PokerAction.RAISE: 4>}\n",
      "Pot: 15 \n",
      " Raise Amount: 10 \n",
      " Bettor: 2 \n",
      " Waiting For: {0} \n",
      " Player Bets: {0: 5, 1: 0, 2: 10} \n",
      " Player Actions: {1: <PokerAction.FOLD: 1>, 2: <PokerAction.RAISE: 4>, 0: None}\n",
      "Pot: 20 \n",
      " Raise Amount: 10 \n",
      " Bettor: 2 \n",
      " Waiting For: set() \n",
      " Player Bets: {0: 10, 1: 0, 2: 10} \n",
      " Player Actions: {1: <PokerAction.FOLD: 1>, 2: <PokerAction.RAISE: 4>, 0: <PokerAction.CALL: 3>}\n"
     ]
    }
   ],
   "source": [
    "round = RoundState([0,1,2])\n",
    "round.print_debug()\n",
    "\n",
    "round.update_player_action(1, PokerAction.FOLD, 0)\n",
    "round.print_debug()\n",
    "round.update_player_action(2, PokerAction.CHECK, 0)\n",
    "round.print_debug()\n",
    "round.update_player_action(0, PokerAction.RAISE, 5)\n",
    "round.print_debug()\n",
    "round.update_player_action(2, PokerAction.RAISE, 10)\n",
    "round.print_debug()\n",
    "round.update_player_action(0, PokerAction.CALL, 10)\n",
    "round.print_debug()"
   ]
  },
  {
   "cell_type": "code",
   "execution_count": 4,
   "metadata": {},
   "outputs": [
    {
     "name": "stdout",
     "output_type": "stream",
     "text": [
      "True\n",
      "set()\n",
      "Players: [0, 1, 2] \n",
      " Active Players: [1, 2] \n",
      " Hands: {0: [Card(\"9s\"), Card(\"Kc\")], 1: [Card(\"As\"), Card(\"8h\")], 2: [Card(\"Ks\"), Card(\"Ts\")]} \n",
      " Board: [] \n",
      " Round Index: 0 \n",
      " Total Pot: 0 \n",
      " Historical Pots: [] \n",
      " Player History: {} \n",
      " \t Current Round: \n",
      " \tPot: 0 \n",
      "\t Raise Amount: 0 \n",
      "\t Bettor: None \n",
      "\t Waiting For: set() \n",
      "\t Player Bets: {0: 0, 1: 0, 2: 0} \n",
      "\t Player Actions: {0: <PokerAction.FOLD: 1>, 1: <PokerAction.CHECK: 2>, 2: <PokerAction.CHECK: 2>}\n"
     ]
    }
   ],
   "source": [
    "g = Game(debug=True)\n",
    "g.add_player(0)\n",
    "g.add_player(1)\n",
    "g.add_player(2)\n",
    "\n",
    "g.start_game()\n",
    "g.update_game(0, (PokerAction.FOLD, 0))\n",
    "g.update_game(1, (PokerAction.CHECK, 0))\n",
    "g.update_game(2, (PokerAction.CHECK, 0))\n",
    "\n",
    "print(g.is_current_round_complete())\n",
    "print(g.get_current_waiting_for())\n",
    "\n",
    "g.print_debug()"
   ]
  },
  {
   "cell_type": "code",
   "execution_count": null,
   "metadata": {},
   "outputs": [
    {
     "name": "stdout",
     "output_type": "stream",
     "text": [
      "Players: [0, 1, 2] \n",
      " Active Players: [1, 2] \n",
      " Hands: {0: [Card(\"3h\"), Card(\"8c\")], 1: [Card(\"5d\"), Card(\"Kc\")], 2: [Card(\"8d\"), Card(\"Td\")]} \n",
      " Board: [] \n",
      " Round Index: 0 \n",
      " Total Pot: 0 \n",
      " Historical Pots: [] \n",
      " Player History: {} \n",
      " \t Current Round: \n",
      " \tPot: 0 \n",
      "\t Raise Amount: 0 \n",
      "\t Bettor: None \n",
      "\t Waiting For: set() \n",
      "\t Player Bets: {0: 0, 1: 0, 2: 0} \n",
      "\t Player Actions: {0: <PokerAction.FOLD: 1>, 1: <PokerAction.CHECK: 2>, 2: <PokerAction.CHECK: 2>}\n",
      "Players: [0, 1, 2] \n",
      " Active Players: [1, 2] \n",
      " Hands: {0: [Card(\"3h\"), Card(\"8c\")], 1: [Card(\"5d\"), Card(\"Kc\")], 2: [Card(\"8d\"), Card(\"Td\")]} \n",
      " Board: [] \n",
      " Round Index: 1 \n",
      " Total Pot: 0 \n",
      " Historical Pots: [0] \n",
      " Player History: {1: {'pot': 0, 'player_bets': {1: 0, 2: 0}, 'player_actions': {1: <PokerAction.CHECK: 2>, 2: <PokerAction.CHECK: 2>}}} \n",
      " \t Current Round: \n",
      " \tPot: 0 \n",
      "\t Raise Amount: 0 \n",
      "\t Bettor: None \n",
      "\t Waiting For: set() \n",
      "\t Player Bets: {1: 0, 2: 0} \n",
      "\t Player Actions: {1: <PokerAction.CHECK: 2>, 2: <PokerAction.CHECK: 2>}\n",
      "Players: [0, 1, 2] \n",
      " Active Players: [1, 2] \n",
      " Hands: {0: [Card(\"3h\"), Card(\"8c\")], 1: [Card(\"5d\"), Card(\"Kc\")], 2: [Card(\"8d\"), Card(\"Td\")]} \n",
      " Board: [Card(\"As\"), Card(\"7h\"), Card(\"7c\")] \n",
      " Round Index: 2 \n",
      " Total Pot: 200 \n",
      " Historical Pots: [0, 200] \n",
      " Player History: {1: {'pot': 0, 'player_bets': {1: 0, 2: 0}, 'player_actions': {1: <PokerAction.CHECK: 2>, 2: <PokerAction.CHECK: 2>}}, 2: {'pot': 200, 'player_bets': {1: 100, 2: 100}, 'player_actions': {1: <PokerAction.RAISE: 4>, 2: <PokerAction.CALL: 3>}}} \n",
      " \t Current Round: \n",
      " \tPot: 200 \n",
      "\t Raise Amount: 100 \n",
      "\t Bettor: 1 \n",
      "\t Waiting For: set() \n",
      "\t Player Bets: {1: 100, 2: 100} \n",
      "\t Player Actions: {1: <PokerAction.RAISE: 4>, 2: <PokerAction.CALL: 3>}\n",
      "Players: [0, 1, 2] \n",
      " Active Players: [1, 2] \n",
      " Hands: {0: [Card(\"3h\"), Card(\"8c\")], 1: [Card(\"5d\"), Card(\"Kc\")], 2: [Card(\"8d\"), Card(\"Td\")]} \n",
      " Board: [Card(\"As\"), Card(\"7h\"), Card(\"7c\"), Card(\"Jh\")] \n",
      " Round Index: 3 \n",
      " Total Pot: 800 \n",
      " Historical Pots: [0, 200, 600] \n",
      " Player History: {1: {'pot': 0, 'player_bets': {1: 0, 2: 0}, 'player_actions': {1: <PokerAction.CHECK: 2>, 2: <PokerAction.CHECK: 2>}}, 2: {'pot': 200, 'player_bets': {1: 100, 2: 100}, 'player_actions': {1: <PokerAction.RAISE: 4>, 2: <PokerAction.CALL: 3>}}, 3: {'pot': 600, 'player_bets': {1: 300, 2: 300}, 'player_actions': {1: <PokerAction.CALL: 3>, 2: <PokerAction.ALL_IN: 5>}}} \n",
      " \t Current Round: \n",
      " \tPot: 600 \n",
      "\t Raise Amount: 300 \n",
      "\t Bettor: 2 \n",
      "\t Waiting For: set() \n",
      "\t Player Bets: {1: 300, 2: 300} \n",
      "\t Player Actions: {1: <PokerAction.CALL: 3>, 2: <PokerAction.ALL_IN: 5>}\n",
      "Player 2 is all in from previous round\n",
      "Players: [0, 1, 2] \n",
      " Active Players: [1, 2] \n",
      " Hands: {0: [Card(\"3h\"), Card(\"8c\")], 1: [Card(\"5d\"), Card(\"Kc\")], 2: [Card(\"8d\"), Card(\"Td\")]} \n",
      " Board: [Card(\"As\"), Card(\"7h\"), Card(\"7c\"), Card(\"Jh\"), Card(\"Kd\")] \n",
      " Round Index: 4 \n",
      " Total Pot: 900 \n",
      " Historical Pots: [0, 200, 600, 100] \n",
      " Player History: {1: {'pot': 0, 'player_bets': {1: 0, 2: 0}, 'player_actions': {1: <PokerAction.CHECK: 2>, 2: <PokerAction.CHECK: 2>}}, 2: {'pot': 200, 'player_bets': {1: 100, 2: 100}, 'player_actions': {1: <PokerAction.RAISE: 4>, 2: <PokerAction.CALL: 3>}}, 3: {'pot': 600, 'player_bets': {1: 300, 2: 300}, 'player_actions': {1: <PokerAction.CALL: 3>, 2: <PokerAction.ALL_IN: 5>}}, 4: {'pot': 100, 'player_bets': {1: 100, 2: 0}, 'player_actions': {1: <PokerAction.RAISE: 4>, 2: <PokerAction.ALL_IN: 5>}}} \n",
      " \t Current Round: \n",
      " \tPot: 100 \n",
      "\t Raise Amount: 100 \n",
      "\t Bettor: 1 \n",
      "\t Waiting For: set() \n",
      "\t Player Bets: {1: 100, 2: 0} \n",
      "\t Player Actions: {1: <PokerAction.RAISE: 4>, 2: <PokerAction.ALL_IN: 5>}\n",
      "Player 1 wins with hand [Card(\"5d\"), Card(\"Kc\")]\n",
      "Scores: {0: 0, 1: 400, 2: -400}\n"
     ]
    }
   ],
   "source": [
    "g.print_debug()\n",
    "\n",
    "#  preflop\n",
    "g.start_round()\n",
    "g.update_game(1, (PokerAction.CHECK, 0))\n",
    "g.update_game(2, (PokerAction.CHECK, 0))\n",
    "g.end_round()\n",
    "g.print_debug()\n",
    "\n",
    "# flop\n",
    "g.start_round()\n",
    "g.update_game(1, (PokerAction.RAISE, 100))\n",
    "g.update_game(2, (PokerAction.CALL, 100))\n",
    "g.end_round()\n",
    "g.print_debug()\n",
    "\n",
    "# turn\n",
    "g.start_round()\n",
    "g.update_game(1, (PokerAction.RAISE, 100))\n",
    "g.update_game(2, (PokerAction.ALL_IN, 300))\n",
    "g.update_game(1, (PokerAction.CALL, 200))\n",
    "g.end_round()\n",
    "g.print_debug()\n",
    "\n",
    "# river\n",
    "g.start_round()\n",
    "g.update_game(1, (PokerAction.RAISE, 100))\n",
    "g.update_game(2, (PokerAction.RAISE, 200))\n",
    "g.end_round()\n",
    "g.print_debug()\n",
    "\n",
    "g.start_round()"
   ]
  },
  {
   "cell_type": "code",
   "execution_count": null,
   "metadata": {},
   "outputs": [
    {
     "name": "stdout",
     "output_type": "stream",
     "text": [
      "GameStateMessage(round_num=4, round='River', community_cards=[Card(\"As\"), Card(\"7h\"), Card(\"7c\"), Card(\"Jh\"), Card(\"Kd\")], pot=100, current_player=set(), current_bet=100, min_raise=100, max_raise=200, player_bets={1: 100, 2: 0}, player_actions={1: 'Raise', 2: 'All In'})\n"
     ]
    }
   ],
   "source": [
    "game_state = g.get_game_state()\n",
    "print(game_state)"
   ]
  }
 ],
 "metadata": {
  "kernelspec": {
   "display_name": "env",
   "language": "python",
   "name": "python3"
  },
  "language_info": {
   "codemirror_mode": {
    "name": "ipython",
    "version": 3
   },
   "file_extension": ".py",
   "mimetype": "text/x-python",
   "name": "python",
   "nbconvert_exporter": "python",
   "pygments_lexer": "ipython3",
   "version": "3.10.4"
  }
 },
 "nbformat": 4,
 "nbformat_minor": 2
}
